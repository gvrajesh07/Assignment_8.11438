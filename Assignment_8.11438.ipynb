{
 "cells": [
  {
   "cell_type": "code",
   "execution_count": 2,
   "metadata": {
    "collapsed": true
   },
   "outputs": [],
   "source": [
    "import numpy as np\n",
    "import pandas as pd"
   ]
  },
  {
   "cell_type": "code",
   "execution_count": 6,
   "metadata": {},
   "outputs": [
    {
     "data": {
      "text/html": [
       "<div>\n",
       "<style scoped>\n",
       "    .dataframe tbody tr th:only-of-type {\n",
       "        vertical-align: middle;\n",
       "    }\n",
       "\n",
       "    .dataframe tbody tr th {\n",
       "        vertical-align: top;\n",
       "    }\n",
       "\n",
       "    .dataframe thead th {\n",
       "        text-align: right;\n",
       "    }\n",
       "</style>\n",
       "<table border=\"1\" class=\"dataframe\">\n",
       "  <thead>\n",
       "    <tr style=\"text-align: right;\">\n",
       "      <th></th>\n",
       "      <th>X</th>\n",
       "      <th>Y</th>\n",
       "    </tr>\n",
       "  </thead>\n",
       "  <tbody>\n",
       "    <tr>\n",
       "      <th>0</th>\n",
       "      <td>7</td>\n",
       "      <td>1</td>\n",
       "    </tr>\n",
       "    <tr>\n",
       "      <th>1</th>\n",
       "      <td>2</td>\n",
       "      <td>2</td>\n",
       "    </tr>\n",
       "    <tr>\n",
       "      <th>2</th>\n",
       "      <td>0</td>\n",
       "      <td>0</td>\n",
       "    </tr>\n",
       "    <tr>\n",
       "      <th>3</th>\n",
       "      <td>3</td>\n",
       "      <td>1</td>\n",
       "    </tr>\n",
       "    <tr>\n",
       "      <th>4</th>\n",
       "      <td>4</td>\n",
       "      <td>2</td>\n",
       "    </tr>\n",
       "    <tr>\n",
       "      <th>5</th>\n",
       "      <td>2</td>\n",
       "      <td>3</td>\n",
       "    </tr>\n",
       "    <tr>\n",
       "      <th>6</th>\n",
       "      <td>5</td>\n",
       "      <td>4</td>\n",
       "    </tr>\n",
       "    <tr>\n",
       "      <th>7</th>\n",
       "      <td>0</td>\n",
       "      <td>0</td>\n",
       "    </tr>\n",
       "    <tr>\n",
       "      <th>8</th>\n",
       "      <td>3</td>\n",
       "      <td>1</td>\n",
       "    </tr>\n",
       "    <tr>\n",
       "      <th>9</th>\n",
       "      <td>4</td>\n",
       "      <td>2</td>\n",
       "    </tr>\n",
       "  </tbody>\n",
       "</table>\n",
       "</div>"
      ],
      "text/plain": [
       "   X  Y\n",
       "0  7  1\n",
       "1  2  2\n",
       "2  0  0\n",
       "3  3  1\n",
       "4  4  2\n",
       "5  2  3\n",
       "6  5  4\n",
       "7  0  0\n",
       "8  3  1\n",
       "9  4  2"
      ]
     },
     "execution_count": 6,
     "metadata": {},
     "output_type": "execute_result"
    }
   ],
   "source": [
    "count=[]\n",
    "pos=0\n",
    "df = pd.DataFrame({'X': [7, 2, 0, 3, 4, 2, 5, 0, 3, 4]})\n",
    "pos_zero=list(i for i in range(len(df['X'])) if(df.iloc[i]['X']==0))\n",
    "for i in range(len(df['X'])):\n",
    "    if i in pos_zero:\n",
    "        pos=0\n",
    "    else:\n",
    "        pos = pos + 1\n",
    "        \n",
    "    count.append(pos)\n",
    "    \n",
    "df['Y']=count\n",
    "df"
   ]
  },
  {
   "cell_type": "code",
   "execution_count": null,
   "metadata": {
    "collapsed": true
   },
   "outputs": [],
   "source": []
  },
  {
   "cell_type": "code",
   "execution_count": 29,
   "metadata": {},
   "outputs": [
    {
     "data": {
      "text/plain": [
       "2015-01-01    0.533942\n",
       "2015-01-02    0.286339\n",
       "2015-01-03    0.163164\n",
       "2015-01-04    0.104682\n",
       "2015-01-05    0.584000\n",
       "2015-01-06    0.658748\n",
       "2015-01-07    0.516949\n",
       "2015-01-08    0.769919\n",
       "2015-01-09    0.868212\n",
       "2015-01-10    0.668724\n",
       "2015-01-11    0.101795\n",
       "2015-01-12    0.203240\n",
       "2015-01-13    0.759575\n",
       "2015-01-14    0.191589\n",
       "2015-01-15    0.406803\n",
       "2015-01-16    0.779115\n",
       "2015-01-17    0.559990\n",
       "2015-01-18    0.534764\n",
       "2015-01-19    0.608223\n",
       "2015-01-20    0.290850\n",
       "2015-01-21    0.659499\n",
       "2015-01-22    0.305318\n",
       "2015-01-23    0.866389\n",
       "2015-01-24    0.238552\n",
       "2015-01-25    0.896232\n",
       "2015-01-26    0.160164\n",
       "2015-01-27    0.272844\n",
       "2015-01-28    0.506344\n",
       "2015-01-29    0.122623\n",
       "2015-01-30    0.932564\n",
       "                ...   \n",
       "2015-12-02    0.686680\n",
       "2015-12-03    0.914943\n",
       "2015-12-04    0.839942\n",
       "2015-12-05    0.752075\n",
       "2015-12-06    0.812430\n",
       "2015-12-07    0.302044\n",
       "2015-12-08    0.985002\n",
       "2015-12-09    0.091056\n",
       "2015-12-10    0.204738\n",
       "2015-12-11    0.290447\n",
       "2015-12-12    0.278009\n",
       "2015-12-13    0.674890\n",
       "2015-12-14    0.300167\n",
       "2015-12-15    0.178089\n",
       "2015-12-16    0.374337\n",
       "2015-12-17    0.304553\n",
       "2015-12-18    0.115875\n",
       "2015-12-19    0.532615\n",
       "2015-12-20    0.655370\n",
       "2015-12-21    0.777490\n",
       "2015-12-22    0.377344\n",
       "2015-12-23    0.871257\n",
       "2015-12-24    0.237424\n",
       "2015-12-25    0.477996\n",
       "2015-12-26    0.318174\n",
       "2015-12-27    0.130500\n",
       "2015-12-28    0.312574\n",
       "2015-12-29    0.904573\n",
       "2015-12-30    0.819326\n",
       "2015-12-31    0.024997\n",
       "Freq: D, Length: 365, dtype: float64"
      ]
     },
     "execution_count": 29,
     "metadata": {},
     "output_type": "execute_result"
    }
   ],
   "source": [
    "datetime=pd.date_range(start='2015-01-01',end='2015-12-31',freq='D')\n",
    "df=pd.Series(np.random.rand(len(datetime)),index=datetime)\n",
    "df"
   ]
  },
  {
   "cell_type": "code",
   "execution_count": 31,
   "metadata": {},
   "outputs": [
    {
     "data": {
      "text/plain": [
       "25.629150533457381"
      ]
     },
     "execution_count": 31,
     "metadata": {},
     "output_type": "execute_result"
    }
   ],
   "source": [
    "df[datetime.weekday==2].sum()"
   ]
  },
  {
   "cell_type": "code",
   "execution_count": 33,
   "metadata": {},
   "outputs": [
    {
     "data": {
      "text/plain": [
       "2015-01-31    0.494065\n",
       "2015-02-28    0.477711\n",
       "2015-03-31    0.483444\n",
       "2015-04-30    0.472063\n",
       "2015-05-31    0.489630\n",
       "2015-06-30    0.519246\n",
       "2015-07-31    0.457061\n",
       "2015-08-31    0.510458\n",
       "2015-09-30    0.476007\n",
       "2015-10-31    0.486355\n",
       "2015-11-30    0.504157\n",
       "2015-12-31    0.500823\n",
       "Freq: M, dtype: float64"
      ]
     },
     "execution_count": 33,
     "metadata": {},
     "output_type": "execute_result"
    }
   ],
   "source": [
    "df.resample('M').mean()"
   ]
  },
  {
   "cell_type": "code",
   "execution_count": 38,
   "metadata": {},
   "outputs": [
    {
     "data": {
      "text/plain": [
       "2015-01-31   2015-01-30\n",
       "2015-05-31   2015-03-28\n",
       "2015-09-30   2015-08-04\n",
       "2016-01-31   2015-10-28\n",
       "dtype: datetime64[ns]"
      ]
     },
     "execution_count": 38,
     "metadata": {},
     "output_type": "execute_result"
    }
   ],
   "source": [
    "df.groupby(pd.Grouper(freq='4M')).idxmax()"
   ]
  },
  {
   "cell_type": "code",
   "execution_count": null,
   "metadata": {
    "collapsed": true
   },
   "outputs": [],
   "source": []
  }
 ],
 "metadata": {
  "kernelspec": {
   "display_name": "Python 3",
   "language": "python",
   "name": "python3"
  },
  "language_info": {
   "codemirror_mode": {
    "name": "ipython",
    "version": 3
   },
   "file_extension": ".py",
   "mimetype": "text/x-python",
   "name": "python",
   "nbconvert_exporter": "python",
   "pygments_lexer": "ipython3",
   "version": "3.6.1"
  }
 },
 "nbformat": 4,
 "nbformat_minor": 2
}
